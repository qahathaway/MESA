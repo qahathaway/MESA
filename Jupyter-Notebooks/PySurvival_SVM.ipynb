{
 "cells": [
  {
   "cell_type": "code",
   "execution_count": null,
   "metadata": {},
   "outputs": [],
   "source": [
    "##Load Packages##"
   ]
  },
  {
   "cell_type": "code",
   "execution_count": null,
   "metadata": {},
   "outputs": [],
   "source": [
    "import numpy as np\n",
    "import pandas as pd\n",
    "from matplotlib import pyplot as plt\n",
    "from pysurvival.models.svm import LinearSVMModel\n",
    "from pysurvival.models.svm import KernelSVMModel\n",
    "from pysurvival.models.simulations import SimulationModel\n",
    "from pysurvival.utils.metrics import concordance_index\n",
    "from sklearn.model_selection import train_test_split\n",
    "from scipy.stats.stats import pearsonr\n",
    "from pysurvival.utils.display import brier_score\n",
    "from pysurvival.utils._metrics import _brier_score, _timeROC\n",
    "\n",
    "# For preprocessing\n",
    "from sklearn.preprocessing import StandardScaler\n",
    "from sklearn_pandas import DataFrameMapper\n",
    "from pycox.datasets import support\n",
    "from pycox.preprocessing.feature_transforms import OrderedCategoricalLong"
   ]
  },
  {
   "cell_type": "code",
   "execution_count": null,
   "metadata": {},
   "outputs": [],
   "source": [
    "import numpy as np\n",
    "import matplotlib.pyplot as plt\n",
    "%matplotlib inline\n",
    "import pandas as pd\n",
    "\n",
    "from sklearn.impute import SimpleImputer\n",
    "from sklearn.pipeline import make_pipeline\n",
    "from sklearn.model_selection import train_test_split\n",
    "\n",
    "from sksurv.datasets import load_flchain\n",
    "from sksurv.linear_model import CoxPHSurvivalAnalysis\n",
    "from sksurv.preprocessing import OneHotEncoder\n",
    "from sksurv.util import Surv\n",
    "from sksurv.metrics import (concordance_index_censored,\n",
    "                            concordance_index_ipcw,\n",
    "                            cumulative_dynamic_auc)"
   ]
  },
  {
   "cell_type": "code",
   "execution_count": null,
   "metadata": {},
   "outputs": [],
   "source": []
  },
  {
   "cell_type": "code",
   "execution_count": null,
   "metadata": {},
   "outputs": [],
   "source": [
    "##Import Data##"
   ]
  },
  {
   "cell_type": "code",
   "execution_count": null,
   "metadata": {},
   "outputs": [],
   "source": [
    "import pandas\n",
    "df = pandas.read_csv('/home/...')\n",
    "df1 = df.fillna(df.median())\n",
    "df1.isnull().values.any()"
   ]
  },
  {
   "cell_type": "code",
   "execution_count": null,
   "metadata": {},
   "outputs": [],
   "source": [
    "import pandas\n",
    "df = pandas.read_csv('/home/...')\n",
    "df1 = df.fillna(df.median())\n",
    "df1.isnull().values.any()"
   ]
  },
  {
   "cell_type": "code",
   "execution_count": null,
   "metadata": {},
   "outputs": [],
   "source": []
  },
  {
   "cell_type": "code",
   "execution_count": null,
   "metadata": {},
   "outputs": [],
   "source": [
    "##Models##"
   ]
  },
  {
   "cell_type": "code",
   "execution_count": null,
   "metadata": {},
   "outputs": [],
   "source": [
    "# Race\n",
    "cols_standardize = ['Race']\n",
    "\n",
    "standardize = [([col], StandardScaler()) for col in cols_standardize]\n",
    "\n",
    "x_mapper = DataFrameMapper(standardize)"
   ]
  },
  {
   "cell_type": "code",
   "execution_count": null,
   "metadata": {},
   "outputs": [],
   "source": [
    "# ASCVD\n",
    "cols_standardize = ['ASCVD']\n",
    "\n",
    "standardize = [([col], StandardScaler()) for col in cols_standardize]\n",
    "\n",
    "x_mapper = DataFrameMapper(standardize)"
   ]
  },
  {
   "cell_type": "code",
   "execution_count": null,
   "metadata": {},
   "outputs": [],
   "source": [
    "# Baseline\n",
    "cols_standardize = ['Age', 'Race', 'Mean_SBP', 'Mean_DBP', 'LDL', 'HDL', 'Chol', 'Trig', 'Alb_Creat_Ratio', 'Pack_Years', 'BMI', 'Walking_Min_Wk', 'Education', 'Income']\n",
    "cols_leave = ['Gender', 'Diabetes', 'Hypertension', 'Hyperlipidemia', 'Statin', 'Smoking', 'Metabolic_Syndrome', 'FH_Heart']\n",
    "\n",
    "standardize = [([col], StandardScaler()) for col in cols_standardize]\n",
    "leave = [(col, None) for col in cols_leave]\n",
    "\n",
    "x_mapper = DataFrameMapper(standardize + leave)"
   ]
  },
  {
   "cell_type": "code",
   "execution_count": null,
   "metadata": {},
   "outputs": [],
   "source": [
    "# Baseline + Inflammatory\n",
    "cols_standardize = ['Age', 'Race', 'Mean_SBP', 'Mean_DBP', 'LDL', 'HDL', 'Chol', 'Trig', 'Alb_Creat_Ratio', 'Pack_Years', 'BMI', 'Walking_Min_Wk', 'Education', 'Income', 'Homocysteine', 'IL6', 'Plasmin_Antiplasmin', 'Fibrinogen_Antigen', 'C_Reactive_Protein', 'D_Dimer', 'Factor_VIII']\n",
    "cols_leave = ['Gender', 'Diabetes', 'Hypertension', 'Hyperlipidemia', 'Statin', 'Smoking', 'Metabolic_Syndrome', 'FH_Heart']\n",
    "\n",
    "standardize = [([col], StandardScaler()) for col in cols_standardize]\n",
    "leave = [(col, None) for col in cols_leave]\n",
    "\n",
    "x_mapper = DataFrameMapper(standardize + leave)"
   ]
  },
  {
   "cell_type": "code",
   "execution_count": null,
   "metadata": {},
   "outputs": [],
   "source": [
    "# Baseline + LV Function\n",
    "cols_standardize = ['Age', 'Race', 'Mean_SBP', 'Mean_DBP', 'LDL', 'HDL', 'Chol', 'Trig', 'Alb_Creat_Ratio', 'Pack_Years', 'BMI', 'Walking_Min_Wk', 'Education', 'Income', 'LV_EDV', 'LV_ESV', 'LV_EF', 'LV_SV']\n",
    "cols_leave = ['Gender', 'Diabetes', 'Hypertension', 'Hyperlipidemia', 'Statin', 'Smoking', 'Metabolic_Syndrome', 'FH_Heart']\n",
    "\n",
    "standardize = [([col], StandardScaler()) for col in cols_standardize]\n",
    "leave = [(col, None) for col in cols_leave]\n",
    "\n",
    "x_mapper = DataFrameMapper(standardize + leave)"
   ]
  },
  {
   "cell_type": "code",
   "execution_count": null,
   "metadata": {},
   "outputs": [],
   "source": [
    "# Baseline + CT\n",
    "cols_standardize = ['Age', 'Race', 'Mean_SBP', 'Mean_DBP', 'LDL', 'HDL', 'Chol', 'Trig', 'Alb_Creat_Ratio', 'Pack_Years', 'BMI', 'Walking_Min_Wk', 'Education', 'Income', 'LV_EF', 'Left_Ventricular_Area', 'Pericardial_Fat', 'Coronary_Calcium']\n",
    "cols_leave = ['Gender', 'Diabetes', 'Hypertension', 'Hyperlipidemia', 'Statin', 'Smoking', 'Metabolic_Syndrome', 'FH_Heart']\n",
    "\n",
    "standardize = [([col], StandardScaler()) for col in cols_standardize]\n",
    "leave = [(col, None) for col in cols_leave]\n",
    "\n",
    "x_mapper = DataFrameMapper(standardize + leave)"
   ]
  },
  {
   "cell_type": "code",
   "execution_count": null,
   "metadata": {},
   "outputs": [],
   "source": [
    "# All\n",
    "cols_standardize = ['Age', 'Race', 'Mean_SBP', 'Mean_DBP', 'LDL', 'HDL', 'Chol', 'Trig', 'Alb_Creat_Ratio', 'Pack_Years', 'BMI', 'Walking_Min_Wk', 'Education', 'Income',  'Homocysteine', 'IL6', 'Plasmin_Antiplasmin', 'Fibrinogen_Antigen', 'C_Reactive_Protein', 'D_Dimer', 'Factor_VIII', 'LV_EF', 'Left_Ventricular_Area', 'Pericardial_Fat', 'Coronary_Calcium']\n",
    "cols_leave = ['Gender', 'Diabetes', 'Hypertension', 'Hyperlipidemia', 'Statin', 'Smoking', 'Metabolic_Syndrome', 'FH_Heart']\n",
    "\n",
    "standardize = [([col], StandardScaler()) for col in cols_standardize]\n",
    "leave = [(col, None) for col in cols_leave]\n",
    "\n",
    "x_mapper = DataFrameMapper(standardize + leave)"
   ]
  },
  {
   "cell_type": "code",
   "execution_count": null,
   "metadata": {},
   "outputs": [],
   "source": []
  },
  {
   "cell_type": "code",
   "execution_count": null,
   "metadata": {},
   "outputs": [],
   "source": [
    "#Top 5 Predictors#"
   ]
  },
  {
   "cell_type": "code",
   "execution_count": null,
   "metadata": {},
   "outputs": [],
   "source": [
    "# Age\n",
    "cols_standardize = ['Age']\n",
    "\n",
    "standardize = [([col], StandardScaler()) for col in cols_standardize]\n",
    "\n",
    "x_mapper = DataFrameMapper(standardize)"
   ]
  },
  {
   "cell_type": "code",
   "execution_count": null,
   "metadata": {},
   "outputs": [],
   "source": [
    "# Coronary_Calcium\n",
    "cols_standardize = ['Coronary_Calcium']\n",
    "\n",
    "standardize = [([col], StandardScaler()) for col in cols_standardize]\n",
    "\n",
    "x_mapper = DataFrameMapper(standardize)"
   ]
  },
  {
   "cell_type": "code",
   "execution_count": null,
   "metadata": {},
   "outputs": [],
   "source": [
    "# Homocysteine\n",
    "cols_standardize = ['Homocysteine']\n",
    "\n",
    "standardize = [([col], StandardScaler()) for col in cols_standardize]\n",
    "\n",
    "x_mapper = DataFrameMapper(standardize)"
   ]
  },
  {
   "cell_type": "code",
   "execution_count": null,
   "metadata": {},
   "outputs": [],
   "source": [
    "# D_Dimer\n",
    "cols_standardize = ['D_Dimer']\n",
    "\n",
    "standardize = [([col], StandardScaler()) for col in cols_standardize]\n",
    "\n",
    "x_mapper = DataFrameMapper(standardize)"
   ]
  },
  {
   "cell_type": "code",
   "execution_count": null,
   "metadata": {},
   "outputs": [],
   "source": [
    "# Alb_Creat_Ratio\n",
    "cols_standardize = ['Alb_Creat_Ratio']\n",
    "\n",
    "standardize = [([col], StandardScaler()) for col in cols_standardize]\n",
    "\n",
    "x_mapper = DataFrameMapper(standardize)"
   ]
  },
  {
   "cell_type": "code",
   "execution_count": null,
   "metadata": {},
   "outputs": [],
   "source": []
  },
  {
   "cell_type": "code",
   "execution_count": null,
   "metadata": {},
   "outputs": [],
   "source": [
    "#Bottom 5 Predictors#"
   ]
  },
  {
   "cell_type": "code",
   "execution_count": null,
   "metadata": {},
   "outputs": [],
   "source": [
    "# Income\n",
    "cols_standardize = ['Income']\n",
    "\n",
    "standardize = [([col], StandardScaler()) for col in cols_standardize]\n",
    "\n",
    "x_mapper = DataFrameMapper(standardize)"
   ]
  },
  {
   "cell_type": "code",
   "execution_count": null,
   "metadata": {},
   "outputs": [],
   "source": [
    "# Education\n",
    "cols_standardize = ['Education']\n",
    "\n",
    "standardize = [([col], StandardScaler()) for col in cols_standardize]\n",
    "\n",
    "x_mapper = DataFrameMapper(standardize)"
   ]
  },
  {
   "cell_type": "code",
   "execution_count": null,
   "metadata": {},
   "outputs": [],
   "source": [
    "# BMI\n",
    "cols_standardize = ['BMI']\n",
    "\n",
    "standardize = [([col], StandardScaler()) for col in cols_standardize]\n",
    "\n",
    "x_mapper = DataFrameMapper(standardize)"
   ]
  },
  {
   "cell_type": "code",
   "execution_count": null,
   "metadata": {},
   "outputs": [],
   "source": [
    "# Trig\n",
    "cols_standardize = ['Trig']\n",
    "\n",
    "standardize = [([col], StandardScaler()) for col in cols_standardize]\n",
    "\n",
    "x_mapper = DataFrameMapper(standardize)"
   ]
  },
  {
   "cell_type": "code",
   "execution_count": null,
   "metadata": {},
   "outputs": [],
   "source": [
    "# LV_EF\n",
    "cols_standardize = ['LV_EF']\n",
    "\n",
    "standardize = [([col], StandardScaler()) for col in cols_standardize]\n",
    "\n",
    "x_mapper = DataFrameMapper(standardize)"
   ]
  },
  {
   "cell_type": "code",
   "execution_count": null,
   "metadata": {},
   "outputs": [],
   "source": []
  },
  {
   "cell_type": "code",
   "execution_count": null,
   "metadata": {},
   "outputs": [],
   "source": [
    "# Defining the features Race, ASCVD, or single feature\n",
    "features = (cols_standardize)"
   ]
  },
  {
   "cell_type": "code",
   "execution_count": null,
   "metadata": {},
   "outputs": [],
   "source": [
    "# Defining the features\n",
    "features = (cols_standardize + cols_leave)"
   ]
  },
  {
   "cell_type": "code",
   "execution_count": null,
   "metadata": {},
   "outputs": [],
   "source": []
  },
  {
   "cell_type": "code",
   "execution_count": null,
   "metadata": {},
   "outputs": [],
   "source": [
    "# Building training and testing sets, random split\n",
    "\n",
    "#N = 6814\n",
    "#index_train, index_test = train_test_split( range(N), test_size = 0.33)\n",
    "#data_train = df1.loc[index_train].reset_index( drop = True )\n",
    "#data_test  = df1.loc[index_test].reset_index( drop = True )"
   ]
  },
  {
   "cell_type": "code",
   "execution_count": null,
   "metadata": {},
   "outputs": [],
   "source": [
    "# Building internal training/testing (sites 3,4,7,8) and external validation (5,6) sets #\n",
    "from itertools import chain\n",
    "\n",
    "print (\"Concatinated two range() function\")\n",
    "concatenated_range = chain(range(1,3266), range(5497,6184))\n",
    "\n",
    "index_train = list(concatenated_range)\n",
    "index_test = list(range(3267,5496))\n",
    "data_train = df1.loc[index_train].reset_index( drop = True )\n",
    "data_test  = df1.loc[index_test].reset_index( drop = True )"
   ]
  },
  {
   "cell_type": "code",
   "execution_count": null,
   "metadata": {},
   "outputs": [],
   "source": []
  },
  {
   "cell_type": "code",
   "execution_count": null,
   "metadata": {},
   "outputs": [],
   "source": [
    "# Creating the X, T and E input\n",
    "X_train, X_test = data_train[features], data_test[features]\n",
    "T_train, T_test = data_train['duration'].values, data_test['duration'].values\n",
    "E_train, E_test = data_train['event'].values, data_test['event'].values"
   ]
  },
  {
   "cell_type": "code",
   "execution_count": null,
   "metadata": {},
   "outputs": [],
   "source": [
    "X_train = x_mapper.fit_transform(X_train).astype('float32')\n",
    "X_test = x_mapper.fit_transform(X_test).astype('float32')"
   ]
  },
  {
   "cell_type": "code",
   "execution_count": null,
   "metadata": {},
   "outputs": [],
   "source": []
  },
  {
   "cell_type": "code",
   "execution_count": null,
   "metadata": {
    "scrolled": true
   },
   "outputs": [],
   "source": [
    "#### Linear Support Vector Machines (lSVM)\n",
    "SVM = LinearSVMModel()\n",
    "SVM.fit(X_train, T_train, E_train, init_method='he_uniform',\n",
    "    with_bias = True, lr = 0.5,  tol = 1e-3,  l2_reg = 1e-3)"
   ]
  },
  {
   "cell_type": "code",
   "execution_count": null,
   "metadata": {},
   "outputs": [],
   "source": []
  },
  {
   "cell_type": "code",
   "execution_count": null,
   "metadata": {},
   "outputs": [],
   "source": [
    "#### Cross Validation / Model Performances\n",
    "c_index = concordance_index(SVM, X_test, T_test, E_test, additional_results = True)\n",
    "c_index"
   ]
  },
  {
   "cell_type": "code",
   "execution_count": null,
   "metadata": {},
   "outputs": [],
   "source": []
  },
  {
   "cell_type": "code",
   "execution_count": null,
   "metadata": {},
   "outputs": [],
   "source": [
    "# Create bins for Concordance Index\n",
    "X_test_rows1 = X_test[1: 51, :]\n",
    "T_test_rows1 = T_test[1: 51]\n",
    "E_test_rows1 = E_test[1: 51]\n",
    "X_test_rows2 = X_test[51: 101, :]\n",
    "T_test_rows2 = T_test[51: 101]\n",
    "E_test_rows2 = E_test[51: 101]\n",
    "X_test_rows3 = X_test[101: 151, :]\n",
    "T_test_rows3 = T_test[101: 151]\n",
    "E_test_rows3 = E_test[101: 151]\n",
    "X_test_rows4 = X_test[151: 201, :]\n",
    "T_test_rows4 = T_test[151: 201]\n",
    "E_test_rows4 = E_test[151: 201]\n",
    "X_test_rows5 = X_test[201: 251, :]\n",
    "T_test_rows5 = T_test[201: 251]\n",
    "E_test_rows5 = E_test[201: 251]\n",
    "X_test_rows6 = X_test[251: 301, :]\n",
    "T_test_rows6 = T_test[251: 301]\n",
    "E_test_rows6 = E_test[251: 301]\n",
    "X_test_rows7 = X_test[301: 351, :]\n",
    "T_test_rows7 = T_test[301: 351]\n",
    "E_test_rows7 = E_test[301: 351]\n",
    "X_test_rows8 = X_test[351: 401, :]\n",
    "T_test_rows8 = T_test[351: 401]\n",
    "E_test_rows8 = E_test[351: 401]\n",
    "X_test_rows9 = X_test[401: 451, :]\n",
    "T_test_rows9 = T_test[401: 451]\n",
    "E_test_rows9 = E_test[401: 451]\n",
    "X_test_rows10 = X_test[451: 501, :]\n",
    "T_test_rows10 = T_test[451: 501]\n",
    "E_test_rows10 = E_test[451: 501]\n",
    "X_test_rows11 = X_test[501: 551, :]\n",
    "T_test_rows11 = T_test[501: 551]\n",
    "E_test_rows11 = E_test[501: 551]\n",
    "X_test_rows12 = X_test[551: 601, :]\n",
    "T_test_rows12 = T_test[551: 601]\n",
    "E_test_rows12 = E_test[551: 601]\n",
    "X_test_rows13 = X_test[601: 651, :]\n",
    "T_test_rows13 = T_test[601: 651]\n",
    "E_test_rows13 = E_test[601: 651]\n",
    "X_test_rows14 = X_test[651: 701, :]\n",
    "T_test_rows14 = T_test[651: 701]\n",
    "E_test_rows14 = E_test[651: 701]\n",
    "X_test_rows15 = X_test[701: 751, :]\n",
    "T_test_rows15 = T_test[701: 751]\n",
    "E_test_rows15 = E_test[701: 751]\n",
    "X_test_rows16 = X_test[751: 801, :]\n",
    "T_test_rows16 = T_test[751: 801]\n",
    "E_test_rows16 = E_test[751: 801]\n",
    "X_test_rows17 = X_test[801: 851, :]\n",
    "T_test_rows17 = T_test[801: 851]\n",
    "E_test_rows17 = E_test[801: 851]\n",
    "X_test_rows18 = X_test[851: 901, :]\n",
    "T_test_rows18 = T_test[851: 901]\n",
    "E_test_rows18 = E_test[851: 901]\n",
    "X_test_rows19 = X_test[901: 951, :]\n",
    "T_test_rows19 = T_test[901: 951]\n",
    "E_test_rows19 = E_test[901: 951]\n",
    "X_test_rows20 = X_test[951: 1001, :]\n",
    "T_test_rows20 = T_test[951: 1001]\n",
    "E_test_rows20 = E_test[951: 1001]\n",
    "X_test_rows21 = X_test[1001: 1051, :]\n",
    "T_test_rows21 = T_test[1001: 1051]\n",
    "E_test_rows21 = E_test[1001: 1051]\n",
    "X_test_rows22 = X_test[1051: 1101, :]\n",
    "T_test_rows22 = T_test[1051: 1101]\n",
    "E_test_rows22 = E_test[1051: 1101]\n",
    "X_test_rows23 = X_test[1101: 1151, :]\n",
    "T_test_rows23 = T_test[1101: 1151]\n",
    "E_test_rows23 = E_test[1101: 1151]\n",
    "X_test_rows24 = X_test[1151: 1201, :]\n",
    "T_test_rows24 = T_test[1151: 1201]\n",
    "E_test_rows24 = E_test[1151: 1201]\n",
    "X_test_rows25 = X_test[1201: 1251, :]\n",
    "T_test_rows25 = T_test[1201: 1251]\n",
    "E_test_rows25 = E_test[1201: 1251]\n",
    "X_test_rows26 = X_test[1251: 1301, :]\n",
    "T_test_rows26 = T_test[1251: 1301]\n",
    "E_test_rows26 = E_test[1251: 1301]\n",
    "X_test_rows27 = X_test[1301: 1351, :]\n",
    "T_test_rows27 = T_test[1301: 1351]\n",
    "E_test_rows27 = E_test[1301: 1351]\n",
    "X_test_rows28 = X_test[1351: 1401, :]\n",
    "T_test_rows28 = T_test[1351: 1401]\n",
    "E_test_rows28 = E_test[1351: 1401]"
   ]
  },
  {
   "cell_type": "code",
   "execution_count": null,
   "metadata": {},
   "outputs": [],
   "source": [
    "c_index1 = concordance_index(SVM, X_test_rows1, T_test_rows1, E_test_rows1, additional_results = True)\n",
    "c_index2 = concordance_index(SVM, X_test_rows2, T_test_rows2, E_test_rows2, additional_results = True)\n",
    "c_index3 = concordance_index(SVM, X_test_rows3, T_test_rows3, E_test_rows3, additional_results = True)\n",
    "c_index4 = concordance_index(SVM, X_test_rows4, T_test_rows4, E_test_rows4, additional_results = True)\n",
    "c_index5 = concordance_index(SVM, X_test_rows5, T_test_rows5, E_test_rows5, additional_results = True)\n",
    "c_index6 = concordance_index(SVM, X_test_rows6, T_test_rows6, E_test_rows6, additional_results = True)\n",
    "c_index7 = concordance_index(SVM, X_test_rows7, T_test_rows7, E_test_rows7, additional_results = True)\n",
    "c_index8 = concordance_index(SVM, X_test_rows8, T_test_rows8, E_test_rows8, additional_results = True)\n",
    "c_index9 = concordance_index(SVM, X_test_rows9, T_test_rows9, E_test_rows9, additional_results = True)\n",
    "c_index10 = concordance_index(SVM, X_test_rows10, T_test_rows10, E_test_rows10, additional_results = True)\n",
    "c_index11 = concordance_index(SVM, X_test_rows11, T_test_rows11, E_test_rows11, additional_results = True)\n",
    "c_index12 = concordance_index(SVM, X_test_rows12, T_test_rows12, E_test_rows12, additional_results = True)\n",
    "c_index13 = concordance_index(SVM, X_test_rows13, T_test_rows13, E_test_rows13, additional_results = True)\n",
    "c_index14 = concordance_index(SVM, X_test_rows14, T_test_rows14, E_test_rows14, additional_results = True)\n",
    "c_index15 = concordance_index(SVM, X_test_rows15, T_test_rows15, E_test_rows15, additional_results = True)\n",
    "c_index16 = concordance_index(SVM, X_test_rows16, T_test_rows16, E_test_rows16, additional_results = True)\n",
    "c_index17 = concordance_index(SVM, X_test_rows17, T_test_rows17, E_test_rows17, additional_results = True)\n",
    "c_index18 = concordance_index(SVM, X_test_rows18, T_test_rows18, E_test_rows18, additional_results = True)\n",
    "c_index19 = concordance_index(SVM, X_test_rows19, T_test_rows19, E_test_rows19, additional_results = True)\n",
    "c_index20 = concordance_index(SVM, X_test_rows20, T_test_rows20, E_test_rows20, additional_results = True)\n",
    "c_index21 = concordance_index(SVM, X_test_rows21, T_test_rows21, E_test_rows21, additional_results = True)\n",
    "c_index22 = concordance_index(SVM, X_test_rows22, T_test_rows22, E_test_rows22, additional_results = True)\n",
    "c_index23 = concordance_index(SVM, X_test_rows23, T_test_rows23, E_test_rows23, additional_results = True)\n",
    "c_index24 = concordance_index(SVM, X_test_rows24, T_test_rows24, E_test_rows24, additional_results = True)\n",
    "c_index25 = concordance_index(SVM, X_test_rows25, T_test_rows25, E_test_rows25, additional_results = True)\n",
    "c_index26 = concordance_index(SVM, X_test_rows26, T_test_rows26, E_test_rows26, additional_results = True)\n",
    "c_index27 = concordance_index(SVM, X_test_rows27, T_test_rows27, E_test_rows27, additional_results = True)\n",
    "c_index28 = concordance_index(SVM, X_test_rows28, T_test_rows28, E_test_rows28, additional_results = True)"
   ]
  },
  {
   "cell_type": "code",
   "execution_count": null,
   "metadata": {},
   "outputs": [],
   "source": [
    "c_index_sample = (c_index1,c_index2,c_index3,c_index4,c_index5,c_index6,c_index7,c_index8,c_index9,\n",
    "                 c_index10,c_index11,c_index12,c_index13,c_index14,c_index15,c_index16,c_index17,c_index18,\n",
    "                 c_index19,c_index20,c_index21,c_index22,c_index23,c_index24,c_index25,c_index26,c_index27,\n",
    "                 c_index28)"
   ]
  },
  {
   "cell_type": "code",
   "execution_count": null,
   "metadata": {},
   "outputs": [],
   "source": [
    "CI = pd.DataFrame(list(c_index_sample))\n",
    "CI.to_csv('/home/...')"
   ]
  },
  {
   "cell_type": "code",
   "execution_count": null,
   "metadata": {},
   "outputs": [],
   "source": []
  },
  {
   "cell_type": "code",
   "execution_count": null,
   "metadata": {},
   "outputs": [],
   "source": [
    "##Cumulative AUC and CI IPCW##"
   ]
  },
  {
   "cell_type": "code",
   "execution_count": null,
   "metadata": {},
   "outputs": [],
   "source": [
    "prediction = SVM.predict_risk(X_test)\n",
    "prediction"
   ]
  },
  {
   "cell_type": "code",
   "execution_count": null,
   "metadata": {},
   "outputs": [],
   "source": [
    "ET_test = data_test['event'].values, data_test['duration'].values\n",
    "ET_train = data_train['event'].values, data_train['duration'].values\n",
    "y_test1 = pd.DataFrame.from_records(ET_test)\n",
    "y_train1 = pd.DataFrame.from_records(ET_train)\n",
    "y_test2 = y_test1.T\n",
    "y_train2 = y_train1.T\n",
    "y_test2 = y_test2.rename({0: 'event', 1: 'duration'}, axis='columns')\n",
    "y_train2 = y_train2.rename({0: 'event', 1: 'duration'}, axis='columns')"
   ]
  },
  {
   "cell_type": "code",
   "execution_count": null,
   "metadata": {},
   "outputs": [],
   "source": [
    "y_test2['event'] = y_test2['event'].astype('bool')\n",
    "y_test2['duration'] = y_test2['duration'].astype('double')\n",
    "y_train2['event'] = y_train2['event'].astype('bool')\n",
    "y_train2['duration'] = y_train2['duration'].astype('double')"
   ]
  },
  {
   "cell_type": "code",
   "execution_count": null,
   "metadata": {},
   "outputs": [],
   "source": [
    "data_y_test = y_test2.to_records(index=False)\n",
    "print(repr(data_y_test))"
   ]
  },
  {
   "cell_type": "code",
   "execution_count": null,
   "metadata": {},
   "outputs": [],
   "source": [
    "data_y_train = y_train2.to_records(index=False)\n",
    "print(repr(data_y_train))"
   ]
  },
  {
   "cell_type": "code",
   "execution_count": null,
   "metadata": {},
   "outputs": [],
   "source": [
    "# Create bins for Concordance Index with inverse probability of censoring weights (IPCW)\n",
    "subArray1 = data_y_test[0:51]\n",
    "subArray1_1 = prediction[0:51]\n",
    "subArray2 = data_y_test[51:101]\n",
    "subArray2_2 = prediction[51:101]\n",
    "subArray3 = data_y_test[101:151]\n",
    "subArray3_3 = prediction[101:151]\n",
    "subArray4 = data_y_test[151:201]\n",
    "subArray4_4 = prediction[151:201]\n",
    "subArray5 = data_y_test[201:251]\n",
    "subArray5_5 = prediction[201:251]\n",
    "subArray6 = data_y_test[251:301]\n",
    "subArray6_6 = prediction[251:301]\n",
    "subArray7 = data_y_test[301:351]\n",
    "subArray7_7 = prediction[301:351]\n",
    "subArray8 = data_y_test[351:401]\n",
    "subArray8_8 = prediction[351:401]\n",
    "subArray9 = data_y_test[401:451]\n",
    "subArray9_9 = prediction[401:451]\n",
    "subArray10 = data_y_test[451:501]\n",
    "subArray10_10 = prediction[451:501]\n",
    "subArray11 = data_y_test[501:551]\n",
    "subArray11_11 = prediction[501:551]\n",
    "subArray12 = data_y_test[551:601]\n",
    "subArray12_12 = prediction[551:601]\n",
    "subArray13 = data_y_test[601:651]\n",
    "subArray13_13 = prediction[601:651]\n",
    "subArray14 = data_y_test[651:701]\n",
    "subArray14_14 = prediction[651:701]\n",
    "subArray15 = data_y_test[701:751]\n",
    "subArray15_15 = prediction[701:751]\n",
    "subArray16 = data_y_test[751:801]\n",
    "subArray16_16 = prediction[751:801]\n",
    "subArray17 = data_y_test[801:851]\n",
    "subArray17_17 = prediction[801:851]\n",
    "subArray18 = data_y_test[851:901]\n",
    "subArray18_18 = prediction[851:901]\n",
    "subArray19 = data_y_test[901:951]\n",
    "subArray19_19 = prediction[901:951]\n",
    "subArray20 = data_y_test[951:1001]\n",
    "subArray20_20 = prediction[951:1001]\n",
    "subArray21 = data_y_test[1001:1051]\n",
    "subArray21_21 = prediction[1001:1051]\n",
    "subArray22 = data_y_test[1051:1101]\n",
    "subArray22_22 = prediction[1051:1101]\n",
    "subArray23 = data_y_test[1101:1151]\n",
    "subArray23_23 = prediction[1101:1151]\n",
    "subArray24 = data_y_test[1151:1201]\n",
    "subArray24_24 = prediction[1151:1201]\n",
    "subArray25 = data_y_test[1201:1251]\n",
    "subArray25_25 = prediction[1201:1251]\n",
    "subArray26 = data_y_test[1251:1301]\n",
    "subArray26_26 = prediction[1251:1301]\n",
    "subArray27 = data_y_test[1301:1351]\n",
    "subArray27_27 = prediction[1301:1351]\n",
    "subArray28 = data_y_test[1351:1401]\n",
    "subArray28_28 = prediction[1351:1401]"
   ]
  },
  {
   "cell_type": "code",
   "execution_count": null,
   "metadata": {},
   "outputs": [],
   "source": [
    "CI_IPCW1 = concordance_index_ipcw(data_y_train, subArray1, subArray1_1)\n",
    "CI_IPCW2 = concordance_index_ipcw(data_y_train, subArray2, subArray2_2)\n",
    "CI_IPCW3 = concordance_index_ipcw(data_y_train, subArray3, subArray3_3)\n",
    "CI_IPCW4 = concordance_index_ipcw(data_y_train, subArray4, subArray4_4)\n",
    "CI_IPCW5 = concordance_index_ipcw(data_y_train, subArray5, subArray5_5)\n",
    "CI_IPCW6 = concordance_index_ipcw(data_y_train, subArray6, subArray6_6)\n",
    "CI_IPCW7 = concordance_index_ipcw(data_y_train, subArray7, subArray7_7)\n",
    "CI_IPCW8 = concordance_index_ipcw(data_y_train, subArray8, subArray8_8)\n",
    "CI_IPCW9 = concordance_index_ipcw(data_y_train, subArray9, subArray9_9)\n",
    "CI_IPCW10 = concordance_index_ipcw(data_y_train, subArray10, subArray10_10)\n",
    "CI_IPCW11 = concordance_index_ipcw(data_y_train, subArray11, subArray11_11)\n",
    "CI_IPCW12 = concordance_index_ipcw(data_y_train, subArray12, subArray12_12)\n",
    "CI_IPCW13 = concordance_index_ipcw(data_y_train, subArray13, subArray13_13)\n",
    "CI_IPCW14 = concordance_index_ipcw(data_y_train, subArray14, subArray14_14)\n",
    "CI_IPCW15 = concordance_index_ipcw(data_y_train, subArray15, subArray15_15)\n",
    "CI_IPCW16 = concordance_index_ipcw(data_y_train, subArray16, subArray16_16)\n",
    "CI_IPCW17 = concordance_index_ipcw(data_y_train, subArray17, subArray17_17)\n",
    "CI_IPCW18 = concordance_index_ipcw(data_y_train, subArray18, subArray18_18)\n",
    "CI_IPCW19 = concordance_index_ipcw(data_y_train, subArray19, subArray19_19)\n",
    "CI_IPCW20 = concordance_index_ipcw(data_y_train, subArray20, subArray20_20)\n",
    "CI_IPCW21 = concordance_index_ipcw(data_y_train, subArray21, subArray21_21)\n",
    "CI_IPCW22 = concordance_index_ipcw(data_y_train, subArray22, subArray22_22)\n",
    "CI_IPCW23 = concordance_index_ipcw(data_y_train, subArray23, subArray23_23)\n",
    "CI_IPCW24 = concordance_index_ipcw(data_y_train, subArray24, subArray24_24)\n",
    "CI_IPCW25 = concordance_index_ipcw(data_y_train, subArray25, subArray25_25)\n",
    "CI_IPCW26 = concordance_index_ipcw(data_y_train, subArray26, subArray26_26)\n",
    "CI_IPCW27 = concordance_index_ipcw(data_y_train, subArray27, subArray27_27)\n",
    "CI_IPCW28 = concordance_index_ipcw(data_y_train, subArray28, subArray28_28)"
   ]
  },
  {
   "cell_type": "code",
   "execution_count": null,
   "metadata": {},
   "outputs": [],
   "source": [
    "IPCW_index_sample = (CI_IPCW1,CI_IPCW2,CI_IPCW3,CI_IPCW4,CI_IPCW5,CI_IPCW6,CI_IPCW7,CI_IPCW8,\n",
    "                    CI_IPCW9,CI_IPCW10,CI_IPCW11,CI_IPCW12,CI_IPCW13,CI_IPCW14,CI_IPCW15,CI_IPCW16,\n",
    "                    CI_IPCW17,CI_IPCW18,CI_IPCW19,CI_IPCW20,CI_IPCW21,CI_IPCW22,CI_IPCW23,CI_IPCW24,\n",
    "                    CI_IPCW25,CI_IPCW26,CI_IPCW27,CI_IPCW28)"
   ]
  },
  {
   "cell_type": "code",
   "execution_count": null,
   "metadata": {},
   "outputs": [],
   "source": [
    "IPCW = pd.DataFrame(list(IPCW_index_sample))\n",
    "IPCW.to_csv('/home/...')"
   ]
  },
  {
   "cell_type": "code",
   "execution_count": null,
   "metadata": {},
   "outputs": [],
   "source": [
    "CI_IPCW = concordance_index_ipcw(data_y_train, data_y_test, prediction)\n",
    "CI_IPCW"
   ]
  },
  {
   "cell_type": "code",
   "execution_count": null,
   "metadata": {},
   "outputs": [],
   "source": [
    "times = np.percentile(data_y_test[\"duration\"], np.linspace(1, 99, 100))"
   ]
  },
  {
   "cell_type": "code",
   "execution_count": null,
   "metadata": {},
   "outputs": [],
   "source": [
    "AUC, mean_AUC = cumulative_dynamic_auc(data_y_train, data_y_test, prediction, times)\n",
    "mean_AUC"
   ]
  },
  {
   "cell_type": "code",
   "execution_count": null,
   "metadata": {},
   "outputs": [],
   "source": [
    "AUC = pd.DataFrame(AUC)\n",
    "AUC.to_csv('/home/...')"
   ]
  },
  {
   "cell_type": "code",
   "execution_count": null,
   "metadata": {},
   "outputs": [],
   "source": [
    "SVM_auc, SVM_mean_auc = AUC, mean_AUC\n",
    "\n",
    "plt.plot(times, SVM_auc, marker=\"o\")\n",
    "plt.axhline(SVM_mean_auc, linestyle=\"--\")\n",
    "plt.xlabel(\"Survival in Days\")\n",
    "plt.ylabel(\"time-dependent AUC\")\n",
    "plt.grid(True)\n",
    "#plt.savefig('/home/...', dpi=600, bbox_inches='tight')"
   ]
  },
  {
   "cell_type": "code",
   "execution_count": null,
   "metadata": {},
   "outputs": [],
   "source": []
  },
  {
   "cell_type": "code",
   "execution_count": null,
   "metadata": {},
   "outputs": [],
   "source": [
    "Age_auc, Age_mean_auc = AUC, mean_AUC\n",
    "Age_auc = [1 - x for x in Age_auc]\n",
    "Age_mean_auc = 1 - Age_mean_auc"
   ]
  },
  {
   "cell_type": "code",
   "execution_count": null,
   "metadata": {},
   "outputs": [],
   "source": [
    "Coronary_auc, Coronary_mean_auc = AUC, mean_AUC\n",
    "Coronary_auc = [1 - x for x in Coronary_auc]\n",
    "Coronary_mean_auc = 1 - Coronary_mean_auc"
   ]
  },
  {
   "cell_type": "code",
   "execution_count": null,
   "metadata": {},
   "outputs": [],
   "source": [
    "Homocysteine_auc, Homocysteine_mean_auc = AUC, mean_AUC\n",
    "Homocysteine_auc = [1 - x for x in Homocysteine_auc]\n",
    "Homocysteine_mean_auc = 1 - Homocysteine_mean_auc"
   ]
  },
  {
   "cell_type": "code",
   "execution_count": null,
   "metadata": {},
   "outputs": [],
   "source": [
    "D_Dimer_auc, D_Dimer_mean_auc = AUC, mean_AUC\n",
    "D_Dimer_auc = [1 - x for x in D_Dimer_auc]\n",
    "D_Dimer_mean_auc = 1 - D_Dimer_mean_auc"
   ]
  },
  {
   "cell_type": "code",
   "execution_count": null,
   "metadata": {},
   "outputs": [],
   "source": [
    "Alb_Creat_Ratio_auc, Alb_Creat_Ratio_mean_auc = AUC, mean_AUC\n",
    "Alb_Creat_Ratio_auc = [1 - x for x in Alb_Creat_Ratio_auc]\n",
    "Alb_Creat_Ratio_mean_auc = 1 - Alb_Creat_Ratio_mean_auc"
   ]
  },
  {
   "cell_type": "code",
   "execution_count": null,
   "metadata": {},
   "outputs": [],
   "source": []
  },
  {
   "cell_type": "code",
   "execution_count": null,
   "metadata": {},
   "outputs": [],
   "source": [
    "#Composite Outcome and All Cause Mortality\n",
    "plt.plot(times, Age_auc, marker=\"o\", color=\"Salmon\")\n",
    "plt.plot(times, Coronary_auc, marker=\"o\", color=\"Sienna\")\n",
    "plt.plot(times, Homocysteine_auc, marker=\"o\", color=\"RoyalBlue\")\n",
    "plt.plot(times, D_Dimer_auc, marker=\"o\", color=\"PaleGreen\")\n",
    "plt.plot(times, Alb_Creat_Ratio_auc, marker=\"o\", color=\"Orchid\")\n",
    "plt.axhline(Age_mean_auc, linestyle=\"--\", color=\"Salmon\", label=['Age', Age_mean_auc.round(2)])\n",
    "plt.axhline(Coronary_mean_auc, linestyle=\"--\", color=\"Sienna\", label=['Total Calcium',Coronary_mean_auc.round(2)])\n",
    "plt.axhline(Homocysteine_mean_auc, linestyle=\"--\", color=\"RoyalBlue\", label=['Homocysteine', Homocysteine_mean_auc.round(2)])\n",
    "plt.axhline(D_Dimer_mean_auc, linestyle=\"--\", color=\"PaleGreen\", label=['D_Dimer', D_Dimer_mean_auc.round(2)])\n",
    "plt.axhline(Alb_Creat_Ratio_mean_auc, linestyle=\"--\", color=\"Orchid\", label=['Alb_Creat_Ratio', Alb_Creat_Ratio_mean_auc.round(2)])\n",
    "plt.xlabel(\"Survival in Days\")\n",
    "plt.ylabel(\"Time-Dependent AUC\")\n",
    "plt.ylim([0.50, 0.85])\n",
    "\n",
    "plt.legend(bbox_to_anchor=(1.04,1), loc=\"upper left\")\n",
    "plt.grid(True)\n",
    "plt.savefig('/home/...', dpi=600, bbox_inches='tight')"
   ]
  },
  {
   "cell_type": "code",
   "execution_count": null,
   "metadata": {},
   "outputs": [],
   "source": [
    "#Composite Outcome and All Cause Mortality\n",
    "plt.plot(times, Age_auc, marker=\"o\", color=\"Salmon\")\n",
    "plt.plot(times, Coronary_auc, marker=\"o\", color=\"Sienna\")\n",
    "plt.plot(times, Homocysteine_auc, marker=\"o\", color=\"RoyalBlue\")\n",
    "plt.plot(times, D_Dimer_auc, marker=\"o\", color=\"PaleGreen\")\n",
    "plt.plot(times, Alb_Creat_Ratio_auc, marker=\"o\", color=\"Orchid\")\n",
    "plt.axhline(Age_mean_auc, linestyle=\"--\", color=\"Salmon\", label=['Age', Age_mean_auc.round(2)])\n",
    "plt.axhline(Coronary_mean_auc, linestyle=\"--\", color=\"Sienna\", label=['Total Calcium',Coronary_mean_auc.round(2)])\n",
    "plt.axhline(Homocysteine_mean_auc, linestyle=\"--\", color=\"RoyalBlue\", label=['Homocysteine', Homocysteine_mean_auc.round(2)])\n",
    "plt.axhline(D_Dimer_mean_auc, linestyle=\"--\", color=\"PaleGreen\", label=['D_Dimer', D_Dimer_mean_auc.round(2)])\n",
    "plt.axhline(Alb_Creat_Ratio_mean_auc, linestyle=\"--\", color=\"Orchid\", label=['Alb_Creat_Ratio', Alb_Creat_Ratio_mean_auc.round(2)])\n",
    "plt.xlabel(\"Survival in Days\")\n",
    "plt.ylabel(\"Time-Dependent AUC\")\n",
    "plt.ylim([0.50, 0.90])\n",
    "\n",
    "plt.legend(bbox_to_anchor=(1.04,1), loc=\"upper left\")\n",
    "plt.grid(True)\n",
    "plt.savefig('/home/...', dpi=600, bbox_inches='tight')"
   ]
  },
  {
   "cell_type": "code",
   "execution_count": null,
   "metadata": {},
   "outputs": [],
   "source": []
  },
  {
   "cell_type": "code",
   "execution_count": null,
   "metadata": {},
   "outputs": [],
   "source": [
    "Income_auc, Income_mean_auc = AUC, mean_AUC\n",
    "Income_auc = [1 - x for x in Income_auc]\n",
    "Income_mean_auc = 1 - Income_mean_auc"
   ]
  },
  {
   "cell_type": "code",
   "execution_count": null,
   "metadata": {},
   "outputs": [],
   "source": [
    "Education_auc, Education_mean_auc = AUC, mean_AUC\n",
    "Education_auc = [1 - x for x in Education_auc]\n",
    "Education_mean_auc = 1 - Education_mean_auc"
   ]
  },
  {
   "cell_type": "code",
   "execution_count": null,
   "metadata": {},
   "outputs": [],
   "source": [
    "BMI_auc, BMI_mean_auc = AUC, mean_AUC\n",
    "BMI_auc = [1 - x for x in BMI_auc]\n",
    "BMI_mean_auc = 1 - BMI_mean_auc"
   ]
  },
  {
   "cell_type": "code",
   "execution_count": null,
   "metadata": {},
   "outputs": [],
   "source": [
    "Trig_auc, Trig_mean_auc = AUC, mean_AUC\n",
    "Trig_auc = [1 - x for x in Trig_auc]\n",
    "Trig_mean_auc = 1 - Trig_mean_auc"
   ]
  },
  {
   "cell_type": "code",
   "execution_count": null,
   "metadata": {},
   "outputs": [],
   "source": [
    "LV_EF_auc, LV_EF_mean_auc = AUC, mean_AUC\n",
    "LV_EF_auc = [1 - x for x in LV_EF_auc]\n",
    "LV_EF_mean_auc = 1 - LV_EF_mean_auc"
   ]
  },
  {
   "cell_type": "code",
   "execution_count": null,
   "metadata": {},
   "outputs": [],
   "source": []
  },
  {
   "cell_type": "code",
   "execution_count": null,
   "metadata": {},
   "outputs": [],
   "source": [
    "#Composite Outcome and All Cause Mortality\n",
    "plt.plot(times, LV_EF_auc, marker=\"o\", color=\"Salmon\")\n",
    "plt.plot(times, Trig_auc, marker=\"o\", color=\"Sienna\")\n",
    "plt.plot(times, BMI_auc, marker=\"o\", color=\"RoyalBlue\")\n",
    "plt.plot(times, Education_auc, marker=\"o\", color=\"PaleGreen\")\n",
    "plt.plot(times, Income_auc, marker=\"o\", color=\"Orchid\")\n",
    "plt.axhline(LV_EF_mean_auc, linestyle=\"--\", color=\"Salmon\", label=['LV_EF', LV_EF_mean_auc.round(2)])\n",
    "plt.axhline(Trig_mean_auc, linestyle=\"--\", color=\"Sienna\", label=['Trig', Trig_mean_auc.round(2)])\n",
    "plt.axhline(BMI_mean_auc, linestyle=\"--\", color=\"RoyalBlue\", label=['BMI', BMI_mean_auc.round(2)])\n",
    "plt.axhline(Education_mean_auc, linestyle=\"--\", color=\"PaleGreen\", label=['Education', Education_mean_auc.round(2)])\n",
    "plt.axhline(Income_mean_auc, linestyle=\"--\", color=\"Orchid\", label=['Income', Income_mean_auc.round(2)])\n",
    "plt.xlabel(\"Survival in Days\")\n",
    "plt.ylabel(\"time-dependent AUC\")\n",
    "plt.ylim([0.30, 0.75])\n",
    "\n",
    "plt.legend(bbox_to_anchor=(1.04,1), loc=\"upper left\")\n",
    "plt.grid(True)\n",
    "plt.savefig('/home/...', dpi=600, bbox_inches='tight')"
   ]
  },
  {
   "cell_type": "code",
   "execution_count": null,
   "metadata": {},
   "outputs": [],
   "source": []
  },
  {
   "cell_type": "code",
   "execution_count": null,
   "metadata": {},
   "outputs": [],
   "source": [
    "#All\n",
    "x_test1 = pd.DataFrame.from_records(X_test)\n",
    "x_train1 = pd.DataFrame.from_records(X_train)\n",
    "x_test1 = x_test1.rename({0:'Age',1:'Race',2:'Mean_SBP',3:'Mean_DBP',4:'LDL',5:'HDL',6:'Chol',7:'Trig',\n",
    "                         8:'Alb_Creat_Ratio',9:'Pack_Years',10:'BMI',11:'Walking_Min_Wk',12:'Education',\n",
    "                         13:'Income',14:'Homocysteine',15:'IL6',16:'Plasmin_Antiplasmin',17:'Fibrinogen_Antigen',\n",
    "                         18:'C_Reactive_Protein',19:'D_Dimer',20:'Factor_VIII',21:'LV_EF',22:'Left_Ventricular_Area',\n",
    "                         23:'Pericardial_Fat',24:'Coronary_Calcium',25:'Gender',26:'Diabetes',\n",
    "                         27:'Hypertension',28:'Hyperlipidemia',29:'Statin',30:'Smoking',31:'Metabolic_Syndrome',\n",
    "                         32:'FH_Heart'}, axis='columns')\n",
    "x_train1 = x_train1.rename({0:'Age',1:'Race',2:'Mean_SBP',3:'Mean_DBP',4:'LDL',5:'HDL',6:'Chol',7:'Trig',\n",
    "                         8:'Alb_Creat_Ratio',9:'Pack_Years',10:'BMI',11:'Walking_Min_Wk',12:'Education',\n",
    "                         13:'Income',14:'Homocysteine',15:'IL6',16:'Plasmin_Antiplasmin',17:'Fibrinogen_Antigen',\n",
    "                         18:'C_Reactive_Protein',19:'D_Dimer',20:'Factor_VIII',21:'LV_EF',22:'Left_Ventricular_Area',\n",
    "                         23:'Pericardial_Fat',24:'Coronary_Calcium',25:'Gender',26:'Diabetes',\n",
    "                         27:'Hypertension',28:'Hyperlipidemia',29:'Statin',30:'Smoking',31:'Metabolic_Syndrome',\n",
    "                         32:'FH_Heart'}, axis='columns')"
   ]
  },
  {
   "cell_type": "code",
   "execution_count": null,
   "metadata": {},
   "outputs": [],
   "source": [
    "#All\n",
    "num_columns = ['Age', 'Race', 'Mean_SBP', 'Mean_DBP', 'LDL', 'HDL', 'Chol', 'Trig', 'Alb_Creat_Ratio', 'Pack_Years', 'BMI', 'Walking_Min_Wk', 'Education', 'Income',  'Homocysteine', 'IL6', 'Plasmin_Antiplasmin', 'Fibrinogen_Antigen', 'C_Reactive_Protein', 'D_Dimer', 'Factor_VIII',  'LV_EDV', 'LV_ESV', 'LV_EF', 'LV_SV', 'Left_Ventricular_Area', 'Left_Ventricular_Size', 'Pericardial_Fat', 'Coronary_Calcium', 'Gender', 'Diabetes', 'Hypertension', 'Hyperlipidemia', 'Statin', 'Smoking', 'Metabolic_Syndrome', 'FH_Heart']\n",
    "\n",
    "imputer = SimpleImputer().fit(x_train1.loc[:, num_columns])\n",
    "x_train2 = imputer.transform(x_train1.loc[:, num_columns])\n",
    "x_test2 = imputer.transform(x_test1.loc[:, num_columns])"
   ]
  },
  {
   "cell_type": "code",
   "execution_count": null,
   "metadata": {},
   "outputs": [],
   "source": [
    "times = np.percentile(data_y_test[\"duration\"], np.linspace(1, 99, 100))\n",
    "pred = SVM.predict_risk\n",
    "\n",
    "def plot_cumulative_dynamic_auc(pred, label, color=None):\n",
    "    auc, mean_auc = cumulative_dynamic_auc(data_y_train, data_y_test, pred, times)\n",
    "\n",
    "    plt.plot(times, auc, marker=\"o\", color=color, label=label)\n",
    "    plt.xlabel(\"Survival in Days\")\n",
    "    plt.ylabel(\"time-dependent AUC\")\n",
    "    plt.axhline(mean_auc, color=color, linestyle=\"--\")\n",
    "    plt.legend()\n",
    "\n",
    "    \n",
    "for i, col in enumerate(num_columns):\n",
    "    plot_cumulative_dynamic_auc(x_test2[:, i], col, color=\"C{}\".format(i))\n",
    "    ret = concordance_index_ipcw(data_y_train, data_y_test, x_test2[:, i], tau=times[-1])\n",
    "\n",
    "plt.savefig('/home/...', dpi=600, bbox_inches='tight')"
   ]
  },
  {
   "cell_type": "code",
   "execution_count": null,
   "metadata": {},
   "outputs": [],
   "source": []
  },
  {
   "cell_type": "code",
   "execution_count": null,
   "metadata": {},
   "outputs": [],
   "source": [
    "#Feature Importance\n",
    "feature_importances = SVM.weights.round(4)\n",
    "feature_importances = feature_importances*-1"
   ]
  },
  {
   "cell_type": "code",
   "execution_count": null,
   "metadata": {},
   "outputs": [],
   "source": [
    "#All\n",
    "Var_Imp = pd.DataFrame(feature_importances)\n",
    "Var_Imp = Var_Imp.rename({0:'Age',1:'Race',2:'Mean_SBP',3:'Mean_DBP',4:'LDL',5:'HDL',6:'Chol',7:'Trig',\n",
    "                         8:'Alb_Creat_Ratio',9:'Pack_Years',10:'BMI',11:'Walking_Min_Wk',12:'Education',\n",
    "                         13:'Income',14:'Homocysteine',15:'IL6',16:'Plasmin_Antiplasmin',17:'Fibrinogen_Antigen',\n",
    "                         18:'C_Reactive_Protein',19:'D_Dimer',20:'Factor_VIII',21:'LV_EF',22:'Left_Ventricular_Area',\n",
    "                         23:'Pericardial_Fat',24:'Coronary_Calcium',25:'Gender',26:'Diabetes',\n",
    "                         27:'Hypertension',28:'Hyperlipidemia',29:'Statin',30:'Smoking',31:'Metabolic_Syndrome',\n",
    "                         32:'FH_Heart'}, axis='index')\n",
    "Var_Imp.sort_values(by=[0],ascending=False)"
   ]
  },
  {
   "cell_type": "code",
   "execution_count": null,
   "metadata": {},
   "outputs": [],
   "source": [
    "Final_Var = Var_Imp.sort_values(by=[0]).round(4)\n",
    "Final_Var.to_csv('/home/...')"
   ]
  },
  {
   "cell_type": "code",
   "execution_count": null,
   "metadata": {},
   "outputs": [],
   "source": []
  }
 ],
 "metadata": {
  "kernelspec": {
   "display_name": "Python 3",
   "language": "python",
   "name": "python3"
  },
  "language_info": {
   "codemirror_mode": {
    "name": "ipython",
    "version": 3
   },
   "file_extension": ".py",
   "mimetype": "text/x-python",
   "name": "python",
   "nbconvert_exporter": "python",
   "pygments_lexer": "ipython3",
   "version": "3.7.6"
  }
 },
 "nbformat": 4,
 "nbformat_minor": 4
}
